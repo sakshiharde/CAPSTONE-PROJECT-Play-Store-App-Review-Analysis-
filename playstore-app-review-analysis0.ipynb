{
  "nbformat": 4,
  "nbformat_minor": 0,
  "metadata": {
    "colab": {
      "private_outputs": true,
      "provenance": [],
      "collapsed_sections": [
        "vncDsAP0Gaoa",
        "FJNUwmbgGyua",
        "w6K7xa23Elo4",
        "yQaldy8SH6Dl",
        "PH-0ReGfmX4f",
        "mDgbUHAGgjLW",
        "O_i_v8NEhb9l",
        "HhfV-JJviCcP",
        "Y3lxredqlCYt",
        "3RnN4peoiCZX",
        "x71ZqKXriCWQ",
        "7hBIi_osiCS2",
        "JlHwYmJAmNHm",
        "35m5QtbWiB9F",
        "PoPl-ycgm1ru",
        "H0kj-8xxnORC",
        "nA9Y7ga8ng1Z",
        "PBTbrJXOngz2",
        "u3PMJOP6ngxN",
        "dauF4eBmngu3",
        "bKJF3rekwFvQ",
        "MSa1f5Uengrz",
        "GF8Ens_Soomf",
        "0wOQAZs5pc--",
        "K5QZ13OEpz2H",
        "lQ7QKXXCp7Bj",
        "448CDAPjqfQr",
        "KSlN3yHqYklG",
        "t6dVpIINYklI",
        "ijmpgYnKYklI",
        "-JiQyfWJYklI",
        "EM7whBJCYoAo",
        "fge-S5ZAYoAp",
        "85gYPyotYoAp",
        "RoGjAbkUYoAp",
        "4Of9eVA-YrdM",
        "iky9q4vBYrdO",
        "F6T5p64dYrdO",
        "y-Ehk30pYrdP",
        "bamQiAODYuh1",
        "QHF8YVU7Yuh3",
        "GwzvFGzlYuh3",
        "qYpmQ266Yuh3",
        "OH-pJp9IphqM",
        "bbFf2-_FphqN",
        "_ouA3fa0phqN",
        "Seke61FWphqN",
        "PIIx-8_IphqN",
        "t27r6nlMphqO",
        "r2jJGEOYphqO",
        "b0JNsNcRphqO",
        "BZR9WyysphqO",
        "jj7wYXLtphqO",
        "eZrbJ2SmphqO",
        "rFu4xreNphqO",
        "YJ55k-q6phqO",
        "gCFgpxoyphqP",
        "OVtJsKN_phqQ",
        "lssrdh5qphqQ",
        "U2RJ9gkRphqQ",
        "1M8mcRywphqQ",
        "tgIPom80phqQ",
        "JMzcOPDDphqR",
        "x-EpHcCOp1ci",
        "X_VqEhTip1ck",
        "8zGJKyg5p1ck",
        "PVzmfK_Ep1ck",
        "n3dbpmDWp1ck",
        "ylSl6qgtp1ck",
        "ZWILFDl5p1ck",
        "M7G43BXep1ck",
        "Ag9LCva-p1cl",
        "E6MkPsBcp1cl",
        "2cELzS2fp1cl",
        "3MPXvC8up1cl",
        "NC_X3p0fY2L0",
        "UV0SzAkaZNRQ",
        "YPEH6qLeZNRQ",
        "q29F0dvdveiT",
        "EXh0U9oCveiU",
        "22aHeOlLveiV",
        "JcMwzZxoAimU",
        "8G2x9gOozGDZ",
        "gCX9965dhzqZ",
        "gIfDvo9L0UH2"
      ],
      "include_colab_link": true
    },
    "kernelspec": {
      "name": "python3",
      "display_name": "Python 3"
    },
    "language_info": {
      "name": "python"
    }
  },
  "cells": [
    {
      "cell_type": "markdown",
      "metadata": {
        "id": "view-in-github",
        "colab_type": "text"
      },
      "source": [
        "<a href=\"https://colab.research.google.com/github/sakshiharde/CAPSTONE-PROJECT-Play-Store-App-Review-Analysis-/blob/main/playstore-app-review-analysis0.ipynb\" target=\"_parent\"><img src=\"https://colab.research.google.com/assets/colab-badge.svg\" alt=\"Open In Colab\"/></a>"
      ]
    },
    {
      "cell_type": "markdown",
      "source": [
        "# **Google Play Store Review Analysis**    \n",
        "\n"
      ],
      "metadata": {
        "id": "vncDsAP0Gaoa"
      }
    },
    {
      "cell_type": "markdown",
      "source": [
        "App ratings and reviews are among the most crucial elements that show a mobile app's success and popularity. Play Store apps with many high star ratings and positive reviews influence the search results and increases the chance of being featured and promoted in the app's target category (e.g.,games,music,fitness,etc).The more active you are in fixing the negative reviews,the more likely app users will keep your app installed."
      ],
      "metadata": {
        "id": "F6v_1wHtG2nS"
      }
    },
    {
      "cell_type": "markdown",
      "source": [
        "# **Project Summary-**"
      ],
      "metadata": {
        "id": "4aiwBntyNb0Y"
      }
    },
    {
      "cell_type": "markdown",
      "source": [
        "The objective of this project is to deliver insights to understand customer demands better and thus help developers to popularize the product.The 10840 Play Store Apps for analyzing the Android market. This datset contains details of different applications and reviews from different users.\n",
        "\n",
        "Discussion of the Google Play Store dataset will involve various steps such as:\n",
        "\n",
        "\n",
        "1.   Importing Libraries.\n",
        "2.   Loading the Datasets.\n",
        "\n",
        "1.   Description of data.\n",
        "2.   Cleaning the data.\n",
        "\n",
        "1.   Exploratory analysis and visualization.\n",
        "2.   Questions that can be asked from the datset.\n",
        "\n",
        "1.   Conclusion.\n",
        "\n",
        "\n",
        "\n",
        "\n",
        "\n",
        "\n",
        "\n",
        "\n",
        "\n",
        "\n",
        "\n",
        "\n"
      ],
      "metadata": {
        "id": "OOwY9eayNqGX"
      }
    },
    {
      "cell_type": "markdown",
      "source": [
        "# ***1.Importing Libraries-***"
      ],
      "metadata": {
        "id": "O_i_v8NEhb9l"
      }
    },
    {
      "cell_type": "code",
      "source": [
        "# Import Libraries\n",
        "import numpy as np\n",
        "import pandas as pd\n",
        "import seaborn as sns\n",
        "import matplotlib.pyplot as plt\n",
        "%matplotlib inline\n",
        "import plotly.express as px\n",
        "import plotly.graph_objects as go"
      ],
      "metadata": {
        "id": "M8Vqi-pPk-HR"
      },
      "execution_count": null,
      "outputs": []
    },
    {
      "cell_type": "markdown",
      "source": [
        "## **2.Loading the Datasets**"
      ],
      "metadata": {
        "id": "3RnN4peoiCZX"
      }
    },
    {
      "cell_type": "code",
      "source": [
        "from google.colab import drive\n",
        "drive.mount('/content/drive')"
      ],
      "metadata": {
        "id": "4CkvbW_SlZ_R"
      },
      "execution_count": null,
      "outputs": []
    },
    {
      "cell_type": "code",
      "source": [
        "#Loading Data from a csv file.\n",
        "data=pd.read_csv('/content/drive/MyDrive/content/Play Store Data.csv')"
      ],
      "metadata": {
        "id": "8XGoX65e2O_r"
      },
      "execution_count": null,
      "outputs": []
    },
    {
      "cell_type": "markdown",
      "source": [
        "# **3.Desription of data**"
      ],
      "metadata": {
        "id": "fdQCUlmV_vim"
      }
    },
    {
      "cell_type": "code",
      "source": [
        "#Let's observe the first n rows of the data here\n",
        "data.head()"
      ],
      "metadata": {
        "id": "xsF-8IPL_M2e"
      },
      "execution_count": null,
      "outputs": []
    },
    {
      "cell_type": "code",
      "source": [
        "data.tail()"
      ],
      "metadata": {
        "id": "qxXuF4dURyEt"
      },
      "execution_count": null,
      "outputs": []
    },
    {
      "cell_type": "code",
      "source": [
        "#Let's check how many rows and columns  in the dataset.\n",
        "data.shape"
      ],
      "metadata": {
        "id": "Kllu7SJgmLij"
      },
      "execution_count": null,
      "outputs": []
    },
    {
      "cell_type": "code",
      "source": [
        "#Let's check the different columns in the dataset.\n",
        "data.columns"
      ],
      "metadata": {
        "id": "5Zvy0e7U-hm4"
      },
      "execution_count": null,
      "outputs": []
    },
    {
      "cell_type": "code",
      "source": [
        "#Let's check the which has minimum value,maximum value, standard deviation,mean,frequency,top,unique,count in the dataset.\n",
        "data.describe(include='all')"
      ],
      "metadata": {
        "id": "DsB8k7sh-kTt"
      },
      "execution_count": null,
      "outputs": []
    },
    {
      "cell_type": "code",
      "source": [
        "#Let's check the information about the rows and type of columns\n",
        "data.info()"
      ],
      "metadata": {
        "id": "JCzyNn99--mG"
      },
      "execution_count": null,
      "outputs": []
    },
    {
      "cell_type": "markdown",
      "source": [
        "The file contains data on Google PlayStore App reviews has 10840 rows and has\n",
        "12 following columns:\n",
        "1.App: It consist of Category of App and Name of App on Google PlayStore.\n",
        "2.Category: It consist of Category of App like Art and Design,Communication,Education.\n",
        "3.Rating:App Ratings are the one-to-five-star cluster which users rate on App.\n",
        "4.Reviews: Reviews which app has most reviews.\n",
        "\n"
      ],
      "metadata": {
        "id": "jyOZAowzH6p-"
      }
    },
    {
      "cell_type": "code",
      "source": [
        "#Loading data from a csv file\n",
        "data2=pd.read_csv('/content/drive/MyDrive/content/User Reviews.csv')"
      ],
      "metadata": {
        "id": "LFRmpHdGLOgE"
      },
      "execution_count": null,
      "outputs": []
    },
    {
      "cell_type": "code",
      "source": [
        "# Let's check the Information about the reviews dataset\n",
        "data2.info()"
      ],
      "metadata": {
        "id": "e9hRXRi6meOf"
      },
      "execution_count": null,
      "outputs": []
    },
    {
      "cell_type": "code",
      "source": [
        "data2.describe(include='all')"
      ],
      "metadata": {
        "id": "IX4QwWNdNaT0"
      },
      "execution_count": null,
      "outputs": []
    },
    {
      "cell_type": "code",
      "source": [
        "data2.head()"
      ],
      "metadata": {
        "id": "PE5C9X5IRWLd"
      },
      "execution_count": null,
      "outputs": []
    },
    {
      "cell_type": "code",
      "source": [
        "data2.tail()"
      ],
      "metadata": {
        "id": "lQPTXjlhRlpF"
      },
      "execution_count": null,
      "outputs": []
    },
    {
      "cell_type": "markdown",
      "source": [
        "# **3.Cleaning the data.**"
      ],
      "metadata": {
        "id": "YNCFfgpheqSW"
      }
    },
    {
      "cell_type": "markdown",
      "source": [
        "# Cleaning and Validating the data"
      ],
      "metadata": {
        "id": "_fFbiyzTghME"
      }
    },
    {
      "cell_type": "markdown",
      "source": [
        "This step is crucial for removing faculty data and filling in gaps.Important tasks here includes:\n",
        "\n",
        "\n",
        "1.   Removing extraneous data\n",
        "2.   Filling in the missings value\n",
        "\n",
        "1.   Conforming data to a standardized pattern\n",
        "\n",
        "\n",
        "\n",
        "\n"
      ],
      "metadata": {
        "id": "yPBdFlVWgscP"
      }
    },
    {
      "cell_type": "markdown",
      "source": [
        "#### Duplicate Values"
      ],
      "metadata": {
        "id": "35m5QtbWiB9F"
      }
    },
    {
      "cell_type": "code",
      "source": [
        "# Let's check the count of duplicated rows in first dataset\n",
        "data.duplicated().sum()"
      ],
      "metadata": {
        "id": "1sLdpKYkmox0"
      },
      "execution_count": null,
      "outputs": []
    },
    {
      "cell_type": "code",
      "source": [
        "#Let's check the count of duplicated rows in second dataset\n",
        "data2.duplicated().sum()"
      ],
      "metadata": {
        "id": "TvB3JOPTSko0"
      },
      "execution_count": null,
      "outputs": []
    },
    {
      "cell_type": "markdown",
      "source": [
        "#### Missing Values/Null Values"
      ],
      "metadata": {
        "id": "PoPl-ycgm1ru"
      }
    },
    {
      "cell_type": "code",
      "source": [
        "# Missing Values/Null Values Count\n",
        "data.isna().sum()"
      ],
      "metadata": {
        "id": "GgHWkxvamxVg"
      },
      "execution_count": null,
      "outputs": []
    },
    {
      "cell_type": "code",
      "source": [
        "#user review dataset null values\n",
        "data2.isna().sum()"
      ],
      "metadata": {
        "id": "imIlVF27bLkA"
      },
      "execution_count": null,
      "outputs": []
    },
    {
      "cell_type": "code",
      "source": [
        "data.isnull()"
      ],
      "metadata": {
        "id": "Nx30MN_VbKqm"
      },
      "execution_count": null,
      "outputs": []
    },
    {
      "cell_type": "code",
      "source": [
        "data2.isnull()"
      ],
      "metadata": {
        "id": "Os_o1KvqLg-Q"
      },
      "execution_count": null,
      "outputs": []
    },
    {
      "cell_type": "code",
      "source": [
        "#Let's remove  all null values of datasets\n",
        "data.dropna()"
      ],
      "metadata": {
        "id": "CIU1rcROipNk"
      },
      "execution_count": null,
      "outputs": []
    },
    {
      "cell_type": "code",
      "source": [
        "data.isna().sum()"
      ],
      "metadata": {
        "id": "6sc08tSp8CXc"
      },
      "execution_count": null,
      "outputs": []
    },
    {
      "cell_type": "markdown",
      "source": [
        "Visualizing the missing values in the dataset"
      ],
      "metadata": {
        "id": "y5x52aKdgc1E"
      }
    },
    {
      "cell_type": "markdown",
      "source": [
        "# User Reviews"
      ],
      "metadata": {
        "id": "lq35xf9OCv3q"
      }
    },
    {
      "cell_type": "markdown",
      "source": [
        "user_reviews dataframe has 64295 rows and 5 columns. The 5 columns are identified as follows:\n",
        "\n",
        "App: Contains the name of the app with a short description (optional).\n",
        "\n",
        "Translated_Review: It contains the English translation of the review dropped by the user of the app.\n",
        "\n",
        "Sentiment: It gives the attitude/emotion of the writer. It can be ‘Positive’, ‘Negative’, or ‘Neutral’.\n",
        "\n",
        "Sentiment_Polarity: It gives the polarity of the review. Its range is [-1,1], where 1 means ‘Positive statement’ and -1 means a ‘Negative statement’.\n",
        "\n",
        "Sentiment_Subjectivity: This value gives how close a reviewers opinion is to the opinion of the general public. Its range is [0,1]. Higher the subjectivity, closer is the reviewers opinion to the opinion of the general public, and lower subjectivity indicates the review is more of a factual information."
      ],
      "metadata": {
        "id": "MRKY2XiYC5Ip"
      }
    },
    {
      "cell_type": "code",
      "source": [
        "# The rows corresponding to the NaN values in the translated_review column, where the rest of the columns are non null.\n",
        "\n",
        "data2[data2['Translated_Review'].isnull() & data2['Sentiment'].notna()]"
      ],
      "metadata": {
        "id": "tVneGyDsCqDl"
      },
      "execution_count": null,
      "outputs": []
    },
    {
      "cell_type": "code",
      "source": [
        "# Deleting the rows containing NaN values\n",
        "\n",
        "data2 = data2.dropna()"
      ],
      "metadata": {
        "id": "xAccMt_XDg1U"
      },
      "execution_count": null,
      "outputs": []
    },
    {
      "cell_type": "code",
      "source": [
        "# Visualizing the missing values\n",
        "sns.heatmap(data.isnull(), cbar=False, cmap='viridis')\n",
        "plt.show()"
      ],
      "metadata": {
        "id": "3q5wnI3om9sJ"
      },
      "execution_count": null,
      "outputs": []
    },
    {
      "cell_type": "code",
      "source": [
        "# checking missing values of second dataset user reviews\n",
        "missing_value_count=data2.isnull().sum()\n",
        "missing_value_count.plot(kind='bar')\n",
        "plt.xlabel('Column Name')\n",
        "plt.ylabel('Missing Values Count')\n",
        "plt.title('Missing Values Count in User Reviews')\n",
        "plt.show()"
      ],
      "metadata": {
        "id": "1f5irmVrSqUp"
      },
      "execution_count": null,
      "outputs": []
    },
    {
      "cell_type": "code",
      "source": [
        "#calculating the percentage of missing data in each column\n",
        "missing_value_percentage=data2.isnull().sum()/len(data2)*100\n",
        "missing_value_percentage"
      ],
      "metadata": {
        "id": "FMrHyGRVTEFl"
      },
      "execution_count": null,
      "outputs": []
    },
    {
      "cell_type": "markdown",
      "source": [
        "Observations:\n",
        "The number of null values are:\n",
        "\n",
        "Translated_Review has 26868 null values which contributes 41.79% of the data.\n",
        "\n",
        "Sentiment has 26863 null values which contributes 41.78% of the data.\n",
        "\n",
        "Sentiment_Polarity has 26863 null values which contributes 41.78% of the data.\n",
        "\n",
        "Sentiment_Subjectivity has 26863 null values which contributes 41.78% of the data."
      ],
      "metadata": {
        "id": "DojQMDl5LMjA"
      }
    },
    {
      "cell_type": "code",
      "source": [
        "# filling missing values with the mode in rating column of play store dataset\n",
        "data['Rating'].fillna(data['Rating'].mode()[0],inplace=True)"
      ],
      "metadata": {
        "id": "YMSXjUNDWcxi"
      },
      "execution_count": null,
      "outputs": []
    },
    {
      "cell_type": "markdown",
      "source": [
        "### What did you know about your dataset?"
      ],
      "metadata": {
        "id": "H0kj-8xxnORC"
      }
    },
    {
      "cell_type": "markdown",
      "source": [
        "Answer Here"
      ],
      "metadata": {
        "id": "gfoNAAC-nUe_"
      }
    },
    {
      "cell_type": "markdown",
      "source": [
        "### Check Unique Values for each variable."
      ],
      "metadata": {
        "id": "u3PMJOP6ngxN"
      }
    },
    {
      "cell_type": "code",
      "source": [
        "# Check Unique Values for each variable\n",
        "data['Category'].unique()"
      ],
      "metadata": {
        "id": "zms12Yq5n-jE"
      },
      "execution_count": null,
      "outputs": []
    },
    {
      "cell_type": "code",
      "source": [
        "#1.9 is wrong value as in the Category column so Let's see in which rows 1.9 belongs to.\n",
        "data[data['Category']=='1.9']"
      ],
      "metadata": {
        "id": "uQJE_97x2Fx-"
      },
      "execution_count": null,
      "outputs": []
    },
    {
      "cell_type": "code",
      "source": [
        "#So in the above there is the NaN value that we need to remove or clean it , we will use the shift() method from pandas library\n",
        "data.loc[10472]=data.loc[10472].shift()\n",
        "data['App'].loc[10472]=data['Category'].loc[10472]\n",
        "data['Category'].loc[10472]=np.nan\n",
        "data.loc[10472]"
      ],
      "metadata": {
        "id": "ABmU70li38Dl"
      },
      "execution_count": null,
      "outputs": []
    },
    {
      "cell_type": "code",
      "source": [
        "#Let's check the unique values in the review columns\n",
        "data['Rating'].unique()"
      ],
      "metadata": {
        "id": "Zacnd-dp5Z3R"
      },
      "execution_count": null,
      "outputs": []
    },
    {
      "cell_type": "code",
      "source": [
        "data[data['Rating']=='nan']"
      ],
      "metadata": {
        "id": "k9_0Nnfa80UX"
      },
      "execution_count": null,
      "outputs": []
    },
    {
      "cell_type": "code",
      "source": [
        "#Let's convert the datatype of the Rating column which is object ,here we are converting the datatype from string to numeric\n",
        "data['Rating']=pd.to_numeric(data['Rating'])\n",
        "data['Rating'].dtype"
      ],
      "metadata": {
        "id": "Xr_HQe2c5s3r"
      },
      "execution_count": null,
      "outputs": []
    },
    {
      "cell_type": "code",
      "source": [
        "#Let's check the unique values in the Reviews column\n",
        "data['Reviews'].unique()"
      ],
      "metadata": {
        "id": "B3uQ-Fq-7KLl"
      },
      "execution_count": null,
      "outputs": []
    },
    {
      "cell_type": "code",
      "source": [
        "#Let's convert the datatype of review column\n",
        "data['Reviews']=pd.to_numeric(data['Reviews'])\n",
        "data['Reviews'].dtype"
      ],
      "metadata": {
        "id": "vctztEFi7ond"
      },
      "execution_count": null,
      "outputs": []
    },
    {
      "cell_type": "code",
      "source": [
        "data['Size'].unique()"
      ],
      "metadata": {
        "id": "vdvQoaPf_6qI"
      },
      "execution_count": null,
      "outputs": []
    },
    {
      "cell_type": "code",
      "source": [
        "data['Installs'].unique()"
      ],
      "metadata": {
        "id": "uEb7FT9uAGiY"
      },
      "execution_count": null,
      "outputs": []
    },
    {
      "cell_type": "code",
      "source": [
        "data['Installs']=data.Installs.str.replace(\",\",\"\")\n",
        "data['Installs']=data.Installs.str.replace(\"+\",\"\")\n",
        "data['Installs']=data.Installs.replace(\"Free\",np.nan)\n",
        "data['Installs']=data['Installs'].astype(float)\n",
        "data['Installs'].dtype"
      ],
      "metadata": {
        "id": "Up0MefyUCTUo"
      },
      "execution_count": null,
      "outputs": []
    },
    {
      "cell_type": "code",
      "source": [
        "data['Price'].unique()"
      ],
      "metadata": {
        "id": "GhXbkzL0AOsz"
      },
      "execution_count": null,
      "outputs": []
    },
    {
      "cell_type": "code",
      "source": [
        "data['Price']=data.Price.replace(\"Everyone\",np.nan)\n",
        "data['Price']=data.Price.str.replace('$',\"\").astype(float)\n",
        "data['Price'].dtype"
      ],
      "metadata": {
        "id": "JdjTGUx6A5Xx"
      },
      "execution_count": null,
      "outputs": []
    },
    {
      "cell_type": "code",
      "source": [
        "data['Last Updated'].unique()"
      ],
      "metadata": {
        "id": "m30BgrR7Bf0D"
      },
      "execution_count": null,
      "outputs": []
    },
    {
      "cell_type": "code",
      "source": [
        "data['Last Updated']=pd.to_datetime(data['Last Updated'])\n",
        "data['Last Updated']"
      ],
      "metadata": {
        "id": "jroo3ngvAmzE"
      },
      "execution_count": null,
      "outputs": []
    },
    {
      "cell_type": "markdown",
      "source": [
        "## 3. ***Data Wrangling***"
      ],
      "metadata": {
        "id": "dauF4eBmngu3"
      }
    },
    {
      "cell_type": "markdown",
      "source": [
        "### Data Wrangling Code"
      ],
      "metadata": {
        "id": "bKJF3rekwFvQ"
      }
    },
    {
      "cell_type": "code",
      "source": [
        "# Write your code to make your dataset analysis ready.\n"
      ],
      "metadata": {
        "id": "wk-9a2fpoLcV"
      },
      "execution_count": null,
      "outputs": []
    },
    {
      "cell_type": "code",
      "source": [],
      "metadata": {
        "id": "xNEHLxBgDjcg"
      },
      "execution_count": null,
      "outputs": []
    },
    {
      "cell_type": "markdown",
      "source": [
        "### What all manipulations have you done and insights you found?"
      ],
      "metadata": {
        "id": "MSa1f5Uengrz"
      }
    },
    {
      "cell_type": "markdown",
      "source": [
        "Answer Here."
      ],
      "metadata": {
        "id": "LbyXE7I1olp8"
      }
    },
    {
      "cell_type": "markdown",
      "source": [
        "#  What are the top categories in the play store, which contains the highest number of apps?"
      ],
      "metadata": {
        "id": "0wOQAZs5pc--"
      }
    },
    {
      "cell_type": "code",
      "source": [
        "y=data['Category'].value_counts().index\n",
        "x=data['Category'].value_counts()\n",
        "ysis=[]\n",
        "xsis=[]\n",
        "for i in range(len(x)):\n",
        "  xsis.append(x[i])\n",
        "  ysis.append(y[i])\n",
        "plt.figure(figsize=(8,5))\n",
        "plt.xlabel(\"Count\")\n",
        "plt.ylabel(\"Category\")\n",
        "graph=sns.barplot(x=xsis,y=ysis,palette=\"husl\")\n",
        "graph.set_title(\"Top Categories on Google Play Store\",fontsize=20);\n"
      ],
      "metadata": {
        "id": "7v_ESjsspbW7"
      },
      "execution_count": null,
      "outputs": []
    },
    {
      "cell_type": "markdown",
      "source": [
        "So there are all total of 33 categories of apps in the dataset from the above output of categories we can come to the conclusion that in the playstore the most of the apps are under Family and Game category and the least number of apps are under Parenting,Comics and Beauty."
      ],
      "metadata": {
        "id": "sU4ZzNs6TB51"
      }
    },
    {
      "cell_type": "markdown",
      "source": [
        "# Distribution of Rating"
      ],
      "metadata": {
        "id": "Pow5RWoFFgdp"
      }
    },
    {
      "cell_type": "code",
      "source": [
        "rating_check=sns.histplot(data['Rating'])"
      ],
      "metadata": {
        "id": "wO7umKJ_EYFi"
      },
      "execution_count": null,
      "outputs": []
    },
    {
      "cell_type": "markdown",
      "source": [
        "##### 1. Why did you pick the specific chart?"
      ],
      "metadata": {
        "id": "K5QZ13OEpz2H"
      }
    },
    {
      "cell_type": "markdown",
      "source": [
        "Answer Here."
      ],
      "metadata": {
        "id": "XESiWehPqBRc"
      }
    },
    {
      "cell_type": "markdown",
      "source": [
        "##### 2. What is/are the insight(s) found from the chart?"
      ],
      "metadata": {
        "id": "lQ7QKXXCp7Bj"
      }
    },
    {
      "cell_type": "markdown",
      "source": [
        "Answer Here"
      ],
      "metadata": {
        "id": "C_j1G7yiqdRP"
      }
    },
    {
      "cell_type": "code",
      "source": [],
      "metadata": {
        "id": "JW_5nf68DZKK"
      },
      "execution_count": null,
      "outputs": []
    },
    {
      "cell_type": "code",
      "source": [],
      "metadata": {
        "id": "7B2JZ5q5Dbjw"
      },
      "execution_count": null,
      "outputs": []
    },
    {
      "cell_type": "markdown",
      "source": [
        "##### 3. Will the gained insights help creating a positive business impact?\n",
        "Are there any insights that lead to negative growth? Justify with specific reason."
      ],
      "metadata": {
        "id": "448CDAPjqfQr"
      }
    },
    {
      "cell_type": "markdown",
      "source": [
        "Answer Here"
      ],
      "metadata": {
        "id": "3cspy4FjqxJW"
      }
    },
    {
      "cell_type": "markdown",
      "source": [
        "#Which categories of apps has most number of installations?"
      ],
      "metadata": {
        "id": "KSlN3yHqYklG"
      }
    },
    {
      "cell_type": "code",
      "source": [
        "highest_Installs=data.groupby('Category')[['Installs']].sum().sort_values(by='Installs',ascending=False)\n",
        "x2sis=[]\n",
        "y2sis=[]\n",
        "for i in range(len(highest_Installs)):\n",
        "  x2sis.append(highest_Installs.Installs[i])\n",
        "  y2sis.append(highest_Installs.index[i])\n",
        "\n",
        "plt.xlabel(\"Installs\")\n",
        "plt.ylabel(\"Category\")\n",
        "graph=sns.barplot(x=x2sis,y=y2sis,alpha=0.9,palette=\"viridis\")\n",
        "graph.set_title(\"Installs\",fontsize=20);"
      ],
      "metadata": {
        "id": "R4YgtaqtYklH"
      },
      "execution_count": null,
      "outputs": []
    },
    {
      "cell_type": "markdown",
      "source": [
        "So in the above output for the most installs apps in the dataset are from category of Game and Communication and the most least install apps are under category of Comics,Medical,Auto_And_Vehicles,Parenting,Beauty and Events."
      ],
      "metadata": {
        "id": "C1EVMIofb5wJ"
      }
    },
    {
      "cell_type": "markdown",
      "source": [
        "##### 1. Why did you pick the specific chart?"
      ],
      "metadata": {
        "id": "t6dVpIINYklI"
      }
    },
    {
      "cell_type": "markdown",
      "source": [
        "Answer Here."
      ],
      "metadata": {
        "id": "5aaW0BYyYklI"
      }
    },
    {
      "cell_type": "markdown",
      "source": [
        "##### 2. What is/are the insight(s) found from the chart?"
      ],
      "metadata": {
        "id": "ijmpgYnKYklI"
      }
    },
    {
      "cell_type": "markdown",
      "source": [
        "Answer Here"
      ],
      "metadata": {
        "id": "PSx9atu2YklI"
      }
    },
    {
      "cell_type": "markdown",
      "source": [
        "##### 3. Will the gained insights help creating a positive business impact?\n",
        "Are there any insights that lead to negative growth? Justify with specific reason."
      ],
      "metadata": {
        "id": "-JiQyfWJYklI"
      }
    },
    {
      "cell_type": "markdown",
      "source": [
        "Answer Here"
      ],
      "metadata": {
        "id": "BcBbebzrYklV"
      }
    },
    {
      "cell_type": "markdown",
      "source": [
        "### How much portion of apps are paid or free ?"
      ],
      "metadata": {
        "id": "EM7whBJCYoAo"
      }
    },
    {
      "cell_type": "code",
      "source": [
        "#Let's plot a visualization graph to view what portion of the apps in the play store are paid and free\n",
        "plt.figure(figsize=(8,6))\n",
        "labels=data['Type'].value_counts(sort=True).index\n",
        "sizes=data['Type'].value_counts(sort=True)\n",
        "colors=[\"blue\",\"lightgreen\"]\n",
        "explode=(0.2,0)\n",
        "plt.pie(sizes,explode=explode,labels=labels,colors=colors,autopct='%1.1f%%',shadow=True,startangle=0)\n",
        "plt.title('Percent of Free Vs Paid Apps in store',size=20)\n",
        "plt.show()"
      ],
      "metadata": {
        "id": "t6GMdE67YoAp"
      },
      "execution_count": null,
      "outputs": []
    },
    {
      "cell_type": "markdown",
      "source": [
        "So we can see that 92%(Approx.) of apps in the google play store are free and 8%(Approx.)  of apps are paid."
      ],
      "metadata": {
        "id": "JeFs0XgKfeR9"
      }
    },
    {
      "cell_type": "markdown",
      "source": [
        "##### 1. Why did you pick the specific chart?"
      ],
      "metadata": {
        "id": "fge-S5ZAYoAp"
      }
    },
    {
      "cell_type": "markdown",
      "source": [
        "Answer Here."
      ],
      "metadata": {
        "id": "5dBItgRVYoAp"
      }
    },
    {
      "cell_type": "markdown",
      "source": [
        "##### 2. What is/are the insight(s) found from the chart?"
      ],
      "metadata": {
        "id": "85gYPyotYoAp"
      }
    },
    {
      "cell_type": "markdown",
      "source": [
        "Answer Here"
      ],
      "metadata": {
        "id": "4jstXR6OYoAp"
      }
    },
    {
      "cell_type": "markdown",
      "source": [
        "##### 3. Will the gained insights help creating a positive business impact?\n",
        "Are there any insights that lead to negative growth? Justify with specific reason."
      ],
      "metadata": {
        "id": "RoGjAbkUYoAp"
      }
    },
    {
      "cell_type": "markdown",
      "source": [
        "Answer Here"
      ],
      "metadata": {
        "id": "zfJ8IqMcYoAp"
      }
    },
    {
      "cell_type": "markdown",
      "source": [
        "# What are the distribution of ratings of apps in play store?"
      ],
      "metadata": {
        "id": "4Of9eVA-YrdM"
      }
    },
    {
      "cell_type": "code",
      "source": [
        "#visualization of distribution of rating\n",
        "plt.figure(figsize=(10,5))\n",
        "sns.countplot(x='Rating',data=data)\n",
        "plt.title('Rating Distribution')\n",
        "plt.xticks(rotation=90)\n",
        "plt.ylabel('Number of Apps')\n",
        "plt.show()"
      ],
      "metadata": {
        "id": "irlUoxc8YrdO"
      },
      "execution_count": null,
      "outputs": []
    },
    {
      "cell_type": "markdown",
      "source": [
        "From the above visualization of Distribution of Apps, it implies that most of the apps in the Play Store are having rating higher than 4 or in the range of 4 to 4.7"
      ],
      "metadata": {
        "id": "cRiTUeHaHZN3"
      }
    },
    {
      "cell_type": "markdown",
      "source": [
        "# Which category pf Apps from the 'Content Rating' column is found more on the play store?\n"
      ],
      "metadata": {
        "id": "Ew42rzSxGCGQ"
      }
    },
    {
      "cell_type": "code",
      "source": [
        "x2=data['Content Rating'].value_counts().index\n",
        "y2=data['Content Rating'].value_counts()\n",
        "x2sis=[]\n",
        "y2sis=[]\n",
        "for i in range(len(x2)):\n",
        "  x2sis.append(x2[i])\n",
        "  y2sis.append(y2[i])\n",
        "plt.figure(figsize=(10,6))\n",
        "plt.bar(x2sis,y2sis,width=0.8,color=['#15244C','#292734','#FFFF48','#CD202D','#ECC5F2'],alpha=0.8)\n",
        "plt.title(\"Content Rating\",size=20)\n",
        "plt.ylabel(\"Apps(Count)\")\n",
        "plt.xlabel(\"Content Rating\")\n",
        "plt.show()"
      ],
      "metadata": {
        "id": "sJjL0ey2GBiB"
      },
      "execution_count": null,
      "outputs": []
    },
    {
      "cell_type": "markdown",
      "source": [
        "From the above plot, we can see that the everyone category has the highest number of apps."
      ],
      "metadata": {
        "id": "vB7TAfqjIUVt"
      }
    },
    {
      "cell_type": "markdown",
      "source": [
        "##### 1. Why did you pick the specific chart?"
      ],
      "metadata": {
        "id": "iky9q4vBYrdO"
      }
    },
    {
      "cell_type": "markdown",
      "source": [
        "Answer Here."
      ],
      "metadata": {
        "id": "aJRCwT6DYrdO"
      }
    },
    {
      "cell_type": "markdown",
      "source": [
        "##### 2. What is/are the insight(s) found from the chart?"
      ],
      "metadata": {
        "id": "F6T5p64dYrdO"
      }
    },
    {
      "cell_type": "markdown",
      "source": [
        "Answer Here"
      ],
      "metadata": {
        "id": "Xx8WAJvtYrdO"
      }
    },
    {
      "cell_type": "markdown",
      "source": [
        "##### 3. Will the gained insights help creating a positive business impact?\n",
        "Are there any insights that lead to negative growth? Justify with specific reason."
      ],
      "metadata": {
        "id": "y-Ehk30pYrdP"
      }
    },
    {
      "cell_type": "markdown",
      "source": [
        "Answer Here"
      ],
      "metadata": {
        "id": "jLNxxz7MYrdP"
      }
    },
    {
      "cell_type": "markdown",
      "source": [
        "##### 1. Why did you pick the specific chart?"
      ],
      "metadata": {
        "id": "QHF8YVU7Yuh3"
      }
    },
    {
      "cell_type": "markdown",
      "source": [
        "Answer Here."
      ],
      "metadata": {
        "id": "dcxuIMRPYuh3"
      }
    },
    {
      "cell_type": "markdown",
      "source": [
        "##### 2. What is/are the insight(s) found from the chart?"
      ],
      "metadata": {
        "id": "GwzvFGzlYuh3"
      }
    },
    {
      "cell_type": "markdown",
      "source": [
        "Answer Here"
      ],
      "metadata": {
        "id": "uyqkiB8YYuh3"
      }
    },
    {
      "cell_type": "markdown",
      "source": [
        "##### 3. Will the gained insights help creating a positive business impact?\n",
        "Are there any insights that lead to negative growth? Justify with specific reason."
      ],
      "metadata": {
        "id": "qYpmQ266Yuh3"
      }
    },
    {
      "cell_type": "markdown",
      "source": [
        "Answer Here"
      ],
      "metadata": {
        "id": "_WtzZ_hCYuh4"
      }
    },
    {
      "cell_type": "markdown",
      "source": [
        "# What is the distribution of reviews for apps in the Play Store?"
      ],
      "metadata": {
        "id": "OH-pJp9IphqM"
      }
    },
    {
      "cell_type": "code",
      "source": [
        "# Chart - 6\n",
        "plt.hist(data['Reviews'])\n",
        "plt.title('Distribution of Reviews')\n",
        "plt.xlabel('Reviews')\n",
        "plt.ylabel('Frequency')\n",
        "plt.show()"
      ],
      "metadata": {
        "id": "kuRf4wtuphqN"
      },
      "execution_count": null,
      "outputs": []
    },
    {
      "cell_type": "code",
      "source": [
        "\n",
        "missing_values=data['Genres'].isnull().sum()\n",
        "if missing_values >0:\n",
        "  data['Genres']=data['Genres'].fillna(\"Unknown\")\n"
      ],
      "metadata": {
        "id": "fKUk8K2ECmmf"
      },
      "execution_count": null,
      "outputs": []
    },
    {
      "cell_type": "code",
      "source": [
        "print(\"Genres Analysis\")\n",
        "data['Genres']=data['Genres'].apply(lambda x:x.split(','))\n",
        "\n",
        "all_genres=[genre for genres in data['Genres'] for genre in genres]\n",
        "genre_counts=pd.Series(all_genres).value_counts()\n",
        "genre_counts\n"
      ],
      "metadata": {
        "id": "HHDngPUEBuKa"
      },
      "execution_count": null,
      "outputs": []
    },
    {
      "cell_type": "code",
      "source": [
        "print(\"Top 10 Genres: \")\n",
        "print(genre_counts.head(10))"
      ],
      "metadata": {
        "id": "6EnDT2IpD5p8"
      },
      "execution_count": null,
      "outputs": []
    },
    {
      "cell_type": "code",
      "source": [
        "plt.bar(genre_counts.index[:10],genre_counts.values[:10])\n",
        "plt.xlabel('Genres')\n",
        "plt.ylabel('Count')\n",
        "plt.xticks(rotation=90)\n",
        "plt.title(\"Distribution of Genres in Play Store Apps\")\n",
        "plt.show()"
      ],
      "metadata": {
        "id": "iLoAzoXqEE_D"
      },
      "execution_count": null,
      "outputs": []
    },
    {
      "cell_type": "markdown",
      "source": [
        "##### 1. Why did you pick the specific chart?"
      ],
      "metadata": {
        "id": "bbFf2-_FphqN"
      }
    },
    {
      "cell_type": "markdown",
      "source": [
        "Answer Here."
      ],
      "metadata": {
        "id": "loh7H2nzphqN"
      }
    },
    {
      "cell_type": "markdown",
      "source": [
        "##### 2. What is/are the insight(s) found from the chart?"
      ],
      "metadata": {
        "id": "_ouA3fa0phqN"
      }
    },
    {
      "cell_type": "markdown",
      "source": [
        "Answer Here"
      ],
      "metadata": {
        "id": "VECbqPI7phqN"
      }
    },
    {
      "cell_type": "markdown",
      "source": [
        "##### 3. Will the gained insights help creating a positive business impact?\n",
        "Are there any insights that lead to negative growth? Justify with specific reason."
      ],
      "metadata": {
        "id": "Seke61FWphqN"
      }
    },
    {
      "cell_type": "markdown",
      "source": [
        "Answer Here"
      ],
      "metadata": {
        "id": "DW4_bGpfphqN"
      }
    },
    {
      "cell_type": "markdown",
      "source": [
        "# Relation Between App Category and App price"
      ],
      "metadata": {
        "id": "PIIx-8_IphqN"
      }
    },
    {
      "cell_type": "code",
      "source": [
        "category_counts = data['Category'].value_counts()\n",
        "top_categories = category_counts.head(10)\n",
        "plt.figure(figsize=(10,6))\n",
        "plt.xticks(rotation=90)\n",
        "\n",
        "# Filter the data for the top categories\n",
        "popular_category = data[data['Category'].isin(top_categories.index)]\n",
        "sns.violinplot(x='Category', y='Price', data=popular_category)\n",
        "plt.show()\n",
        "\n"
      ],
      "metadata": {
        "id": "lqAIGUfyphqO"
      },
      "execution_count": null,
      "outputs": []
    },
    {
      "cell_type": "markdown",
      "source": [
        "##### 1. Why did you pick the specific chart?"
      ],
      "metadata": {
        "id": "t27r6nlMphqO"
      }
    },
    {
      "cell_type": "markdown",
      "source": [
        "Answer Here."
      ],
      "metadata": {
        "id": "iv6ro40sphqO"
      }
    },
    {
      "cell_type": "markdown",
      "source": [
        "##### 2. What is/are the insight(s) found from the chart?"
      ],
      "metadata": {
        "id": "r2jJGEOYphqO"
      }
    },
    {
      "cell_type": "markdown",
      "source": [
        "Answer Here"
      ],
      "metadata": {
        "id": "Po6ZPi4hphqO"
      }
    },
    {
      "cell_type": "markdown",
      "source": [
        "##### 3. Will the gained insights help creating a positive business impact?\n",
        "Are there any insights that lead to negative growth? Justify with specific reason."
      ],
      "metadata": {
        "id": "b0JNsNcRphqO"
      }
    },
    {
      "cell_type": "markdown",
      "source": [
        "Answer Here"
      ],
      "metadata": {
        "id": "xvSq8iUTphqO"
      }
    },
    {
      "cell_type": "markdown",
      "source": [
        "# What are the 5 most expensive applications?"
      ],
      "metadata": {
        "id": "BZR9WyysphqO"
      }
    },
    {
      "cell_type": "code",
      "source": [
        "#sorting apps based on price\n",
        "df4 = data.sort_values(by=['Price'], ascending=False)\n",
        "#showing top 5 most expensive apps\n",
        "df4.head(10)"
      ],
      "metadata": {
        "id": "iAZSgelOsifK"
      },
      "execution_count": null,
      "outputs": []
    },
    {
      "cell_type": "code",
      "source": [
        "# group the data by category and sum the prices\n",
        "category_prices = data.groupby('Category')['Price'].sum().sort_values(ascending=False)\n",
        "\n",
        "# create a bar plot\n",
        "plt.figure(figsize=(10, 5))\n",
        "plt.bar(category_prices.index, category_prices.values,color=plt.cm.viridis(np.linspace(0,1,len(category_prices))))\n",
        "\n",
        "# set the title and labels\n",
        "plt.title('Total Price of Apps by Category')\n",
        "plt.xlabel('Category')\n",
        "plt.ylabel('Total Price')\n",
        "\n",
        "# rotate the x-axis labels\n",
        "plt.xticks(rotation=90)\n",
        "\n",
        "# display the plot\n",
        "plt.show()"
      ],
      "metadata": {
        "id": "cmupXLRCBNOL"
      },
      "execution_count": null,
      "outputs": []
    },
    {
      "cell_type": "markdown",
      "source": [
        "##### 1. Why did you pick the specific chart?"
      ],
      "metadata": {
        "id": "jj7wYXLtphqO"
      }
    },
    {
      "cell_type": "markdown",
      "source": [
        "Answer Here."
      ],
      "metadata": {
        "id": "Ob8u6rCTphqO"
      }
    },
    {
      "cell_type": "markdown",
      "source": [
        "##### 2. What is/are the insight(s) found from the chart?"
      ],
      "metadata": {
        "id": "eZrbJ2SmphqO"
      }
    },
    {
      "cell_type": "markdown",
      "source": [
        "Answer Here"
      ],
      "metadata": {
        "id": "mZtgC_hjphqO"
      }
    },
    {
      "cell_type": "markdown",
      "source": [
        "##### 3. Will the gained insights help creating a positive business impact?\n",
        "Are there any insights that lead to negative growth? Justify with specific reason."
      ],
      "metadata": {
        "id": "rFu4xreNphqO"
      }
    },
    {
      "cell_type": "markdown",
      "source": [
        "Answer Here"
      ],
      "metadata": {
        "id": "ey_0qi68phqO"
      }
    },
    {
      "cell_type": "markdown",
      "source": [
        "# What is the percentage of positive,negative,and neutral reviews for each app?"
      ],
      "metadata": {
        "id": "YJ55k-q6phqO"
      }
    },
    {
      "cell_type": "code",
      "source": [
        "import matplotlib\n",
        "import matplotlib.pyplot as plt\n",
        "counts = list(data2['Sentiment'].value_counts())\n",
        "labels = 'Positive Reviews', 'Negative Reviews','Neutral Reviews'\n",
        "matplotlib.rcParams['font.size'] = 20\n",
        "matplotlib.rcParams['figure.figsize'] = (6, 6)\n",
        "plt.pie(counts, labels=labels, explode=[0.01, 0.05, 0.05],colors=['green' ,'red','orchid'], shadow=True, autopct=\"%.2f%%\")\n",
        "plt.title('Percentage of Review Sentiments', fontsize=20)\n",
        "plt.axis('off')\n",
        "plt.legend(bbox_to_anchor=(0.9, 0, 0.5, 1))\n",
        "plt.show()"
      ],
      "metadata": {
        "id": "B2aS4O1ophqO"
      },
      "execution_count": null,
      "outputs": []
    },
    {
      "cell_type": "markdown",
      "source": [
        "##### 1. Why did you pick the specific chart?"
      ],
      "metadata": {
        "id": "gCFgpxoyphqP"
      }
    },
    {
      "cell_type": "markdown",
      "source": [
        "Answer Here."
      ],
      "metadata": {
        "id": "TVxDimi2phqP"
      }
    },
    {
      "cell_type": "markdown",
      "source": [
        "##### 2. What is/are the insight(s) found from the chart?"
      ],
      "metadata": {
        "id": "OVtJsKN_phqQ"
      }
    },
    {
      "cell_type": "markdown",
      "source": [
        "Observations:\n",
        "\n",
        "1.   Positive reviews are 64.30%\n",
        "2.   Negative reviews are 22.80%\n",
        "\n",
        "1.   Neutral reviews are 12.90%\n",
        "\n",
        "\n",
        "\n",
        "\n"
      ],
      "metadata": {
        "id": "ngGi97qjphqQ"
      }
    },
    {
      "cell_type": "markdown",
      "source": [
        "##### 3. Will the gained insights help creating a positive business impact?\n",
        "Are there any insights that lead to negative growth? Justify with specific reason."
      ],
      "metadata": {
        "id": "lssrdh5qphqQ"
      }
    },
    {
      "cell_type": "markdown",
      "source": [
        "Answer Here"
      ],
      "metadata": {
        "id": "tBpY5ekJphqQ"
      }
    },
    {
      "cell_type": "markdown",
      "source": [
        "# Which are the top 10 positive review apps?"
      ],
      "metadata": {
        "id": "U2RJ9gkRphqQ"
      }
    },
    {
      "cell_type": "code",
      "source": [
        "# positive reviews\n",
        "positive_ur_df=data2[data2['Sentiment']=='Positive']\n",
        "positive_ur_df\n"
      ],
      "metadata": {
        "id": "GM7a4YP4phqQ"
      },
      "execution_count": null,
      "outputs": []
    },
    {
      "cell_type": "code",
      "source": [
        "positive_ur_df.groupby('App')['Sentiment'].value_counts().nlargest(10).plot.barh(figsize=(10,4),color='#77BFE2').invert_yaxis()\n",
        "plt.title(\"Top 10 positive review apps\")\n",
        "plt.xlabel('Total number of positive reviews')\n",
        "plt.legend()"
      ],
      "metadata": {
        "id": "4NunWgbhHxDw"
      },
      "execution_count": null,
      "outputs": []
    },
    {
      "cell_type": "markdown",
      "source": [
        "##### 1. Why did you pick the specific chart?"
      ],
      "metadata": {
        "id": "1M8mcRywphqQ"
      }
    },
    {
      "cell_type": "markdown",
      "source": [
        "Answer Here."
      ],
      "metadata": {
        "id": "8agQvks0phqQ"
      }
    },
    {
      "cell_type": "markdown",
      "source": [
        "##### 2. What is/are the insight(s) found from the chart?"
      ],
      "metadata": {
        "id": "tgIPom80phqQ"
      }
    },
    {
      "cell_type": "markdown",
      "source": [
        "Answer Here"
      ],
      "metadata": {
        "id": "Qp13pnNzphqQ"
      }
    },
    {
      "cell_type": "markdown",
      "source": [
        "##### 3. Will the gained insights help creating a positive business impact?\n",
        "Are there any insights that lead to negative growth? Justify with specific reason."
      ],
      "metadata": {
        "id": "JMzcOPDDphqR"
      }
    },
    {
      "cell_type": "markdown",
      "source": [
        "Answer Here"
      ],
      "metadata": {
        "id": "R4Ka1PC2phqR"
      }
    },
    {
      "cell_type": "markdown",
      "source": [
        "#### Chart - 11"
      ],
      "metadata": {
        "id": "x-EpHcCOp1ci"
      }
    },
    {
      "cell_type": "code",
      "source": [
        "negative_ur_df=data2[data2['Sentiment']=='Negative']\n",
        "negative_ur_df"
      ],
      "metadata": {
        "id": "mAQTIvtqp1cj"
      },
      "execution_count": null,
      "outputs": []
    },
    {
      "cell_type": "code",
      "source": [
        "negative_ur_df.groupby('App')['Sentiment'].value_counts().nlargest(10).plot.barh(figsize=(10,4),color='crimson').invert_yaxis()\n",
        "plt.title(\"Top 10 negative review apps\")\n",
        "plt.xlabel('Total number of negative reviews')\n",
        "plt.legend()"
      ],
      "metadata": {
        "id": "w66wN79MiQNd"
      },
      "execution_count": null,
      "outputs": []
    },
    {
      "cell_type": "markdown",
      "source": [
        "##### 1. Why did you pick the specific chart?"
      ],
      "metadata": {
        "id": "X_VqEhTip1ck"
      }
    },
    {
      "cell_type": "markdown",
      "source": [
        "Answer Here."
      ],
      "metadata": {
        "id": "-vsMzt_np1ck"
      }
    },
    {
      "cell_type": "markdown",
      "source": [
        "##### 2. What is/are the insight(s) found from the chart?"
      ],
      "metadata": {
        "id": "8zGJKyg5p1ck"
      }
    },
    {
      "cell_type": "markdown",
      "source": [
        "Answer Here"
      ],
      "metadata": {
        "id": "ZYdMsrqVp1ck"
      }
    },
    {
      "cell_type": "markdown",
      "source": [
        "##### 3. Will the gained insights help creating a positive business impact?\n",
        "Are there any insights that lead to negative growth? Justify with specific reason."
      ],
      "metadata": {
        "id": "PVzmfK_Ep1ck"
      }
    },
    {
      "cell_type": "markdown",
      "source": [
        "Answer Here"
      ],
      "metadata": {
        "id": "druuKYZpp1ck"
      }
    },
    {
      "cell_type": "markdown",
      "source": [
        "# Histogram of subjectivity"
      ],
      "metadata": {
        "id": "n3dbpmDWp1ck"
      }
    },
    {
      "cell_type": "code",
      "source": [
        "merged_df = pd.merge(data,data2, on='App', how = \"inner\")\n",
        "merged_df.Sentiment_Subjectivity.value_counts()"
      ],
      "metadata": {
        "id": "bwevp1tKp1ck"
      },
      "execution_count": null,
      "outputs": []
    },
    {
      "cell_type": "code",
      "source": [
        "plt.figure(figsize=(10,6))\n",
        "plt.xlabel(\"Subjectivity\")\n",
        "plt.title(\"Distribution of Subjectivity\")\n",
        "plt.hist(merged_df[merged_df['Sentiment_Subjectivity'].notnull()]['Sentiment_Subjectivity'])\n",
        "plt.show()"
      ],
      "metadata": {
        "id": "rAx0Quxxjyiw"
      },
      "execution_count": null,
      "outputs": []
    },
    {
      "cell_type": "markdown",
      "source": [
        "Observations:\n",
        "0 - objective(fact), 1 - subjective(opinion)\n",
        "\n",
        "It can be seen that maximum number of sentiment subjectivity lies between 0.4 to 0.7. From this we can conclude that maximum number of users give reviews to the applications, according to their experience."
      ],
      "metadata": {
        "id": "FW3DibNFkbs3"
      }
    },
    {
      "cell_type": "markdown",
      "source": [
        "##### 1. Why did you pick the specific chart?"
      ],
      "metadata": {
        "id": "ylSl6qgtp1ck"
      }
    },
    {
      "cell_type": "markdown",
      "source": [
        "Answer Here."
      ],
      "metadata": {
        "id": "m2xqNkiQp1ck"
      }
    },
    {
      "cell_type": "markdown",
      "source": [
        "##### 2. What is/are the insight(s) found from the chart?"
      ],
      "metadata": {
        "id": "ZWILFDl5p1ck"
      }
    },
    {
      "cell_type": "markdown",
      "source": [
        "Answer Here"
      ],
      "metadata": {
        "id": "x-lUsV2mp1ck"
      }
    },
    {
      "cell_type": "markdown",
      "source": [
        "##### 3. Will the gained insights help creating a positive business impact?\n",
        "Are there any insights that lead to negative growth? Justify with specific reason."
      ],
      "metadata": {
        "id": "M7G43BXep1ck"
      }
    },
    {
      "cell_type": "markdown",
      "source": [
        "Answer Here"
      ],
      "metadata": {
        "id": "5wwDJXsLp1cl"
      }
    },
    {
      "cell_type": "markdown",
      "source": [
        "# What is the relationship between sentiment subjectivity and sentiment polarity in Google Play Store reviews?"
      ],
      "metadata": {
        "id": "Ag9LCva-p1cl"
      }
    },
    {
      "cell_type": "code",
      "source": [
        "# scatterplot of sentiment polarity and sentiment subjectivity\n",
        "\n",
        "plt.figure(figsize=(15, 10))\n",
        "sns.scatterplot(x=data2['Sentiment_Subjectivity'],y= data2['Sentiment_Polarity'],\n",
        "                hue = data2['Sentiment'], edgecolor='white', palette=\"magma\")\n",
        "plt.title(\"Google Play Store Reviews Sentiment Analysis\", fontsize=20)\n",
        "plt.show()"
      ],
      "metadata": {
        "id": "EUfxeq9-p1cl"
      },
      "execution_count": null,
      "outputs": []
    },
    {
      "cell_type": "markdown",
      "source": [
        "##### 1. Why did you pick the specific chart?"
      ],
      "metadata": {
        "id": "E6MkPsBcp1cl"
      }
    },
    {
      "cell_type": "markdown",
      "source": [
        "Answer Here."
      ],
      "metadata": {
        "id": "V22bRsFWp1cl"
      }
    },
    {
      "cell_type": "markdown",
      "source": [
        "##### 2. What is/are the insight(s) found from the chart?"
      ],
      "metadata": {
        "id": "2cELzS2fp1cl"
      }
    },
    {
      "cell_type": "markdown",
      "source": [
        "Answer Here"
      ],
      "metadata": {
        "id": "ozQPc2_Ip1cl"
      }
    },
    {
      "cell_type": "markdown",
      "source": [
        "##### 3. Will the gained insights help creating a positive business impact?\n",
        "Are there any insights that lead to negative growth? Justify with specific reason."
      ],
      "metadata": {
        "id": "3MPXvC8up1cl"
      }
    },
    {
      "cell_type": "markdown",
      "source": [
        "Answer Here"
      ],
      "metadata": {
        "id": "GL8l1tdLp1cl"
      }
    },
    {
      "cell_type": "markdown",
      "source": [
        "#### Chart - 14 - Correlation Heatmap"
      ],
      "metadata": {
        "id": "NC_X3p0fY2L0"
      }
    },
    {
      "cell_type": "code",
      "source": [
        "# Select numerical columns for correlation analysis\n",
        "numerical_data = data.select_dtypes(include=['int64', 'float64'])\n",
        "\n",
        "# Calculate the correlation matrix\n",
        "corr_matrix = numerical_data.corr()\n",
        "\n",
        "# Create the heatmap\n",
        "plt.figure(figsize=(12, 8))\n",
        "sns.heatmap(corr_matrix, annot=True, cmap='viridis', fmt=\".2f\")\n",
        "plt.title('Correlation Heatmap of Play Store Data')\n",
        "plt.show()"
      ],
      "metadata": {
        "id": "xyC9zolEZNRQ"
      },
      "execution_count": null,
      "outputs": []
    },
    {
      "cell_type": "markdown",
      "source": [
        "Values: Correlation coefficients range from -1 to 1.\n",
        "1: Perfect positive correlation (as one variable increases, the other increases proportionally).\n",
        "-1: Perfect negative correlation (as one increases, the other decreases proportionally).\n",
        "0: No linear correlation.\n",
        "Strength: The closer the absolute value is to 1, the stronger the relationship. Values close to 0 indicate weak or no relationship.\n",
        "Direction: Positive values indicate a positive relationship, negative values a negative relationship."
      ],
      "metadata": {
        "id": "j1ZbgdcZm5P3"
      }
    },
    {
      "cell_type": "markdown",
      "source": [
        "\n",
        "\n",
        "1.   Positive Correlation : Reviews and Installs: More installs often lead to more reviews.\n",
        "Rating and Price: Higher-priced apps might have higher ratings due to perceived quality or more dedicated development.\n",
        "2.   Negative Correlation : Size and Installs: Larger app sizes could deter some users, leading to fewer installs.\n",
        "Price and Installs: Expensive apps might have lower install numbers.\n",
        "\n"
      ],
      "metadata": {
        "id": "Ta0uQJm2m7eP"
      }
    },
    {
      "cell_type": "code",
      "source": [
        "sentiment_data = data2[['Sentiment_Polarity', 'Sentiment_Subjectivity']]\n",
        "\n",
        "# Calculate the correlation matrix\n",
        "corr_matrix = sentiment_data.corr()\n",
        "\n",
        "# Create the heatmap\n",
        "plt.figure(figsize=(8, 6))\n",
        "sns.heatmap(corr_matrix, annot=True, cmap='coolwarm', fmt=\".2f\")\n",
        "plt.title('Correlation Heatmap of User Review Sentiment')\n",
        "plt.show()"
      ],
      "metadata": {
        "id": "XOQ4PTo6mA7o"
      },
      "execution_count": null,
      "outputs": []
    },
    {
      "cell_type": "markdown",
      "source": [
        "User reviews that express more personal opinions and feelings (higher subjectivity) also tend to have stronger positive or negative sentiment. This could mean that users who are more invested in an app are more likely to express strong opinions about it."
      ],
      "metadata": {
        "id": "geDxBVArn768"
      }
    },
    {
      "cell_type": "markdown",
      "source": [
        "# Pair plot for numerial data of play store data"
      ],
      "metadata": {
        "id": "q29F0dvdveiT"
      }
    },
    {
      "cell_type": "code",
      "source": [
        "numerical_data = data.select_dtypes(include=['int64', 'float64'])\n",
        "\n",
        "# Create the pair plot\n",
        "sns.pairplot(numerical_data)\n",
        "plt.show()"
      ],
      "metadata": {
        "id": "o58-TEIhveiU"
      },
      "execution_count": null,
      "outputs": []
    },
    {
      "cell_type": "markdown",
      "source": [
        "\n",
        "\n",
        "*   Rating vs. Reviews: You might see a positive correlation, suggesting that apps with more reviews tend to have higher ratings.\n",
        "*   Size vs. Installs: A potential negative correlation could indicate that larger app sizes might deter some users.\n",
        "\n",
        "*   Price vs. Installs: You might observe that free apps generally have much higher install numbers compared to paid apps.\n",
        "*   Category Differences: If you used the hue parameter (e.g., hue='Category'), look for differences in patterns across categories. Do some categories have stronger correlations between certain variables than others?\n",
        "\n",
        "\n",
        "\n"
      ],
      "metadata": {
        "id": "NErfWWlromwB"
      }
    },
    {
      "cell_type": "markdown",
      "source": [
        "# Pair plot for User review data"
      ],
      "metadata": {
        "id": "FLV9etuAvXFo"
      }
    },
    {
      "cell_type": "code",
      "source": [
        "sentiment_data = data2[['Sentiment_Polarity', 'Sentiment_Subjectivity']] # Add other numerical columns if available\n",
        "\n",
        "# Create the pair plot\n",
        "sentiment_data=(sentiment_data.rename(columns={'Sentiment_Polarity': 'Polarity', 'Sentiment_Subjectivity': 'Subjectivity'}))\n",
        "sns.pairplot(sentiment_data)\n",
        "plt.figure(figsize=(10,8))\n",
        "plt.show()"
      ],
      "metadata": {
        "id": "x4bCPhFbomQv"
      },
      "execution_count": null,
      "outputs": []
    },
    {
      "cell_type": "markdown",
      "source": [
        "If you see a positive correlation between sentiment subjectivity and sentiment polarity, it could suggest that users who express stronger emotions (positive or negative) tend to write more personal and opinionated reviews."
      ],
      "metadata": {
        "id": "qsCziz2VsT_j"
      }
    },
    {
      "cell_type": "markdown",
      "source": [
        "##### 1. Why did you pick the specific chart?"
      ],
      "metadata": {
        "id": "EXh0U9oCveiU"
      }
    },
    {
      "cell_type": "markdown",
      "source": [
        "Answer Here."
      ],
      "metadata": {
        "id": "eMmPjTByveiU"
      }
    },
    {
      "cell_type": "markdown",
      "source": [
        "##### 2. What is/are the insight(s) found from the chart?"
      ],
      "metadata": {
        "id": "22aHeOlLveiV"
      }
    },
    {
      "cell_type": "markdown",
      "source": [
        "Answer Here"
      ],
      "metadata": {
        "id": "uPQ8RGwHveiV"
      }
    },
    {
      "cell_type": "markdown",
      "source": [
        "## **5. Solution to Business Objective**"
      ],
      "metadata": {
        "id": "JcMwzZxoAimU"
      }
    },
    {
      "cell_type": "markdown",
      "source": [
        "#### What do you suggest the client to achieve Business Objective ?\n"
      ],
      "metadata": {
        "id": "8G2x9gOozGDZ"
      }
    },
    {
      "cell_type": "markdown",
      "source": [
        "\n",
        "\n",
        "*   High Correlation between Reviews & Ratings:\n",
        "\n",
        "1. Objective: Encourage more users to leave reviews, as this could positively influence app ratings and attract more downloads.\n",
        "2. Actions: Implement in-app prompts for reviews, run contests or offer incentives for reviewing.  \n",
        "\n",
        "\n",
        "*   Negative Correlation between App Size & Installs:\n",
        "\n",
        "1.   Objective: Optimize app size to improve download rates, especially for users with limited storage or slower connections.\n",
        "2.   Actions: Compress images and other assets, use more efficient code libraries, consider offering a \"lite\" version of the app.\n",
        "\n",
        "*    Sentiment Analysis:\n",
        "\n",
        "\n",
        "1.   Positive Sentiment:\n",
        "Objective: Highlight positive features and user experiences in marketing materials.\n",
        "Actions: Use positive reviews in app store descriptions, create social media campaigns showcasing user satisfaction.\n",
        "\n",
        "2.   Negative Sentiment:\n",
        "Objective: Address common issues and pain points raised in negative reviews to improve user satisfaction and reduce churn.\n",
        "Actions: Prioritize bug fixes and feature improvements based on user feedback, actively respond to negative reviews and offer solutions.\n",
        "\n",
        "\n",
        "*   Subjectivity & Sentiment:\n",
        "\n",
        "1.   Objective: If highly subjective reviews are more negative, investigate why users with strong personal opinions are less satisfied.\n",
        "2.   Actions: Conduct user surveys or focus groups to gather more in-depth feedback, analyze reviews for specific features or aspects driving negative sentiment.\n",
        "\n",
        "*   Category-Specific Insights:\n",
        "\n",
        "\n",
        "1.   Objective: Tailor app development and marketing strategies based on the unique characteristics and user expectations within different app categories.\n",
        "2.   Actions: Analyze competitor apps within the same category, identify best practices and areas for differentiation.\n",
        "\n",
        "\n",
        "\n",
        "\n",
        "\n",
        "\n",
        "\n",
        "\n",
        "\n",
        "\n",
        "\n"
      ],
      "metadata": {
        "id": "pASKb0qOza21"
      }
    },
    {
      "cell_type": "markdown",
      "source": [
        "# **Conclusion**"
      ],
      "metadata": {
        "id": "gCX9965dhzqZ"
      }
    },
    {
      "cell_type": "markdown",
      "source": [
        "After analyzing the dataset we have got answers to some of the serious & interesting facts which any of the android users would love to know.\n",
        "\n",
        "\n",
        "1.   Which category of apps has most number of distribution?\n",
        "2.   How much portion of apps are paid and free?\n",
        "\n",
        "\n",
        "3.   What are the distribution of ratings of apps in playstore?\n",
        "4.   Which category of apps from the content rating column is found more on play store?\n",
        "\n",
        "\n",
        "5.   What is the distribution of reviews for apps in play store?\n",
        "2.   What is relation between App category and app price?\n",
        "\n",
        "\n",
        "\n",
        "\n",
        "\n"
      ],
      "metadata": {
        "id": "Fjb1IsQkh3yE"
      }
    },
    {
      "cell_type": "markdown",
      "source": [
        "The Google Play Store Apps report provides some useful insights regarding the trending of the apps in the play store. As per the graphs visualizations shown above, most of the trending apps (in terms of users' installs) are from the categories like GAME, COMMUNICATION, and TOOL even though the amount of available apps from these categories are twice as much lesser than the category FAMILY. The trending of these apps are most probably due to their nature of being able to entertain or assist the user. Besides, it also shows a good trend where we can see that developers from these categories are focusing on the quality instead of the quantity of the apps."
      ],
      "metadata": {
        "id": "odQE1U5-rFzM"
      }
    },
    {
      "cell_type": "markdown",
      "source": [
        "### ***Hurrah! You have successfully completed your EDA Capstone Project !!!***"
      ],
      "metadata": {
        "id": "gIfDvo9L0UH2"
      }
    }
  ]
}